{
  "cells": [
    {
      "cell_type": "code",
      "source": [
        "import tensorflow as tf\n",
        "import matplotlib.pyplot as plt\n",
        "import numpy as np\n",
        "\n",
        "import datetime\n",
        "import io\n",
        "\n",
        "from PIL import Image\n",
        "from IPython.display import Image as IPyImage\n",
        "import imageio\n",
        "\n",
        "print(\"Version: \", tf.__version__)\n",
        "tf.get_logger().setLevel('INFO')"
      ],
      "metadata": {
        "colab": {
          "base_uri": "https://localhost:8080/"
        },
        "id": "xKYwBekCDA2E",
        "outputId": "89857783-d45e-4d66-c824-16076c2505cc"
      },
      "execution_count": 11,
      "outputs": [
        {
          "output_type": "stream",
          "name": "stdout",
          "text": [
            "Version:  2.15.0\n"
          ]
        }
      ]
    },
    {
      "cell_type": "code",
      "source": [
        "def get_model():\n",
        "  model = tf.keras.Sequential()\n",
        "  model.add(tf.keras.layers.Dense(1, activation='linear', input_dim=784))\n",
        "  model.compile(optimizer=tf.keras.optimizers.RMSprop(lr=0.1), loss='mean_squared_error', metrics=['mae'])\n",
        "  return model"
      ],
      "metadata": {
        "id": "W57EaVjOD8uu"
      },
      "execution_count": 12,
      "outputs": []
    },
    {
      "cell_type": "code",
      "source": [
        "(x_train, y_train), (x_test, y_test) = tf.keras.datasets.mnist.load_data()\n",
        "x_train = x_train.reshape(60000, 784).astype('float32') / 255\n",
        "x_test = x_test.reshape(10000, 784).astype('float32') / 255"
      ],
      "metadata": {
        "id": "_B9waqN-GuJC"
      },
      "execution_count": 15,
      "outputs": []
    },
    {
      "cell_type": "code",
      "source": [
        "class MyCustomCallback(tf.keras.callbacks.Callback):\n",
        "  def on_train_batch_begin(self, batch, logs=None):\n",
        "    print('Training: batch {} begins at {}'.format(batch, datetime.datetime.now().time()))\n",
        "\n",
        "  def on_train_batch_end(self, batch, logs=None):\n",
        "    print('Training: batch {} begins at {}'.format(batch, datetime.datetime.now().time()))"
      ],
      "metadata": {
        "id": "pEuKoi4OHvbF"
      },
      "execution_count": 16,
      "outputs": []
    },
    {
      "cell_type": "code",
      "source": [
        "model = get_model()\n",
        "_ = model.fit(x_train, y_train,\n",
        "          batch_size=64,\n",
        "          epochs=1,\n",
        "          steps_per_epoch=5,\n",
        "          verbose=0,\n",
        "          callbacks=[MyCustomCallback()])"
      ],
      "metadata": {
        "colab": {
          "base_uri": "https://localhost:8080/"
        },
        "id": "cXauFie1JnwI",
        "outputId": "1c3f795d-5c6f-470c-ca7e-6950316d8460"
      },
      "execution_count": 18,
      "outputs": [
        {
          "output_type": "stream",
          "name": "stderr",
          "text": [
            "WARNING:absl:`lr` is deprecated in Keras optimizer, please use `learning_rate` or use the legacy optimizer, e.g.,tf.keras.optimizers.legacy.RMSprop.\n"
          ]
        },
        {
          "output_type": "stream",
          "name": "stdout",
          "text": [
            "Training: batch 0 begins at 08:02:45.193293\n",
            "Training: batch 0 begins at 08:02:45.608685\n",
            "Training: batch 1 begins at 08:02:45.610928\n",
            "Training: batch 1 begins at 08:02:45.613451\n",
            "Training: batch 2 begins at 08:02:45.614489\n",
            "Training: batch 2 begins at 08:02:45.617722\n",
            "Training: batch 3 begins at 08:02:45.619022\n",
            "Training: batch 3 begins at 08:02:45.622048\n",
            "Training: batch 4 begins at 08:02:45.623560\n",
            "Training: batch 4 begins at 08:02:45.626734\n"
          ]
        }
      ]
    },
    {
      "cell_type": "markdown",
      "source": [
        "### An overview of callback methods"
      ],
      "metadata": {
        "id": "rn9NCbJxK5pO"
      }
    },
    {
      "cell_type": "code",
      "source": [],
      "metadata": {
        "id": "XV6rwVFgKPGm"
      },
      "execution_count": null,
      "outputs": []
    }
  ],
  "metadata": {
    "colab": {
      "provenance": []
    },
    "kernelspec": {
      "display_name": "Python 3",
      "name": "python3"
    },
    "language_info": {
      "name": "python"
    }
  },
  "nbformat": 4,
  "nbformat_minor": 0
}