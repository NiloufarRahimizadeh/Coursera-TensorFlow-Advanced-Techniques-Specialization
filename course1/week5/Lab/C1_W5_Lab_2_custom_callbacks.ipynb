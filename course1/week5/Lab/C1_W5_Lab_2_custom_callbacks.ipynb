{
  "cells": [
    {
      "cell_type": "code",
      "source": [
        "import tensorflow as tf\n",
        "import matplotlib.pyplot as plt\n",
        "import numpy as np\n",
        "\n",
        "import datetime\n",
        "import io\n",
        "\n",
        "from PIL import Image\n",
        "from IPython.display import Image as IPyImage\n",
        "import imageio\n",
        "\n",
        "print(\"Version: \", tf.__version__)\n",
        "tf.get_logger().setLevel('INFO')"
      ],
      "metadata": {
        "colab": {
          "base_uri": "https://localhost:8080/"
        },
        "id": "xKYwBekCDA2E",
        "outputId": "4cd8c7e5-37df-410d-bf21-c1b77cab23c6"
      },
      "execution_count": 1,
      "outputs": [
        {
          "output_type": "stream",
          "name": "stdout",
          "text": [
            "Version:  2.15.0\n"
          ]
        }
      ]
    },
    {
      "cell_type": "code",
      "source": [
        "def get_model():\n",
        "  model = tf.keras.Sequential()\n",
        "  model.add(tf.keras.layers.Dense(1, activation='linear', input_dim=784))\n",
        "  model.compile(optimizer=tf.keras.optimizers.RMSprop(learning_rate=0.1), loss='mean_squared_error', metrics=['mae'])\n",
        "  return model"
      ],
      "metadata": {
        "id": "W57EaVjOD8uu"
      },
      "execution_count": 7,
      "outputs": []
    },
    {
      "cell_type": "code",
      "source": [
        "(x_train, y_train), (x_test, y_test) = tf.keras.datasets.mnist.load_data()\n",
        "x_train = x_train.reshape(60000, 784).astype('float32') / 255\n",
        "x_test = x_test.reshape(10000, 784).astype('float32') / 255"
      ],
      "metadata": {
        "id": "_B9waqN-GuJC",
        "colab": {
          "base_uri": "https://localhost:8080/"
        },
        "outputId": "b1cc0f7b-0922-4885-873f-2e687b02f22c"
      },
      "execution_count": 3,
      "outputs": [
        {
          "output_type": "stream",
          "name": "stdout",
          "text": [
            "Downloading data from https://storage.googleapis.com/tensorflow/tf-keras-datasets/mnist.npz\n",
            "11490434/11490434 [==============================] - 0s 0us/step\n"
          ]
        }
      ]
    },
    {
      "cell_type": "code",
      "source": [
        "class MyCustomCallback(tf.keras.callbacks.Callback):\n",
        "  def on_train_batch_begin(self, batch, logs=None):\n",
        "    print('Training: batch {} begins at {}'.format(batch, datetime.datetime.now().time()))\n",
        "\n",
        "  def on_train_batch_end(self, batch, logs=None):\n",
        "    print('Training: batch {} begins at {}'.format(batch, datetime.datetime.now().time()))"
      ],
      "metadata": {
        "id": "pEuKoi4OHvbF"
      },
      "execution_count": 4,
      "outputs": []
    },
    {
      "cell_type": "code",
      "source": [
        "model = get_model()\n",
        "_ = model.fit(x_train, y_train,\n",
        "          batch_size=64,\n",
        "          epochs=1,\n",
        "          steps_per_epoch=5,\n",
        "          verbose=0,\n",
        "          callbacks=[MyCustomCallback()])"
      ],
      "metadata": {
        "colab": {
          "base_uri": "https://localhost:8080/"
        },
        "id": "cXauFie1JnwI",
        "outputId": "0fdd2ed8-f4e0-4b2e-b956-58018f140c02"
      },
      "execution_count": 5,
      "outputs": [
        {
          "output_type": "stream",
          "name": "stderr",
          "text": [
            "WARNING:absl:`lr` is deprecated in Keras optimizer, please use `learning_rate` or use the legacy optimizer, e.g.,tf.keras.optimizers.legacy.RMSprop.\n"
          ]
        },
        {
          "output_type": "stream",
          "name": "stdout",
          "text": [
            "Training: batch 0 begins at 07:03:20.049846\n",
            "Training: batch 0 begins at 07:03:20.704132\n",
            "Training: batch 1 begins at 07:03:20.705801\n",
            "Training: batch 1 begins at 07:03:20.710639\n",
            "Training: batch 2 begins at 07:03:20.711781\n",
            "Training: batch 2 begins at 07:03:20.716077\n",
            "Training: batch 3 begins at 07:03:20.717284\n",
            "Training: batch 3 begins at 07:03:20.720462\n",
            "Training: batch 4 begins at 07:03:20.721017\n",
            "Training: batch 4 begins at 07:03:20.723269\n"
          ]
        }
      ]
    },
    {
      "cell_type": "markdown",
      "source": [
        "### An overview of callback methods"
      ],
      "metadata": {
        "id": "rn9NCbJxK5pO"
      }
    },
    {
      "cell_type": "code",
      "source": [
        "callback = tf.keras.callbacks.LambdaCallback(\n",
        "    on_epoch_end=lambda epoch, logs:\n",
        "    print(\"Epoch: {}, Val/Train loss ratio: {:.2f}\".format(epoch, logs[\"val_loss\"] / logs[\"loss\"]))\n",
        ")\n",
        "model = get_model()\n",
        "_ = model.fit(x_train, y_train,\n",
        "              validation_data=(x_test, y_test),\n",
        "              batch_size=64,\n",
        "              epochs=3,\n",
        "              verbose=0,\n",
        "              callbacks=[callback])"
      ],
      "metadata": {
        "id": "XV6rwVFgKPGm",
        "colab": {
          "base_uri": "https://localhost:8080/"
        },
        "outputId": "6c4c3938-a970-4268-dbc8-017cc956f864"
      },
      "execution_count": 6,
      "outputs": [
        {
          "output_type": "stream",
          "name": "stderr",
          "text": [
            "WARNING:absl:`lr` is deprecated in Keras optimizer, please use `learning_rate` or use the legacy optimizer, e.g.,tf.keras.optimizers.legacy.RMSprop.\n"
          ]
        },
        {
          "output_type": "stream",
          "name": "stdout",
          "text": [
            "Epoch: 0, Val/Train loss ratio: 0.71\n",
            "Epoch: 1, Val/Train loss ratio: 0.92\n",
            "Epoch: 2, Val/Train loss ratio: 0.93\n"
          ]
        }
      ]
    },
    {
      "cell_type": "code",
      "source": [
        "callback = tf.keras.callbacks.LambdaCallback(\n",
        "    on_epoch_end=lambda epoch, logs:\n",
        "    print(\"Epoch: {}, {}, {}\".format(epoch, logs[\"val_loss\"] , logs[\"loss\"]))\n",
        ")\n",
        "model = get_model()\n",
        "_ = model.fit(x_train, y_train,\n",
        "              validation_data=(x_test, y_test),\n",
        "              batch_size=64,\n",
        "              epochs=3,\n",
        "              verbose=1,\n",
        "              )"
      ],
      "metadata": {
        "colab": {
          "base_uri": "https://localhost:8080/"
        },
        "id": "AUCEgeBUIvM3",
        "outputId": "e7df0278-6b00-467d-d946-18f43f980530"
      },
      "execution_count": 9,
      "outputs": [
        {
          "output_type": "stream",
          "name": "stdout",
          "text": [
            "Epoch 1/3\n",
            "938/938 [==============================] - 3s 2ms/step - loss: 32.8785 - mae: 4.7456 - val_loss: 11.6505 - val_mae: 2.8370\n",
            "Epoch 2/3\n",
            "938/938 [==============================] - 2s 2ms/step - loss: 32.5582 - mae: 4.7710 - val_loss: 37.1891 - val_mae: 5.4380\n",
            "Epoch 3/3\n",
            "938/938 [==============================] - 3s 3ms/step - loss: 31.9662 - mae: 4.6211 - val_loss: 20.5820 - val_mae: 3.9568\n"
          ]
        }
      ]
    },
    {
      "cell_type": "code",
      "source": [
        "callback = tf.keras.callbacks.LambdaCallback(\n",
        "    on_epoch_end=lambda epoch, logs:\n",
        "    print(\"Epoch: {}, {}\".format(epoch, logs))\n",
        ")\n",
        "model = get_model()\n",
        "_ = model.fit(x_train, y_train,\n",
        "              validation_data=(x_test, y_test),\n",
        "              batch_size=64,\n",
        "              epochs=3,\n",
        "              verbose=0,\n",
        "              callbacks=[callback])"
      ],
      "metadata": {
        "colab": {
          "base_uri": "https://localhost:8080/"
        },
        "id": "ham0xpOmJN8I",
        "outputId": "a78419bc-d758-4a2e-ec30-f129b2578c58"
      },
      "execution_count": 12,
      "outputs": [
        {
          "output_type": "stream",
          "name": "stdout",
          "text": [
            "Epoch: 0, {'loss': 33.07736587524414, 'mae': 4.750387191772461, 'val_loss': 31.705738067626953, 'val_mae': 5.098238468170166}\n",
            "Epoch: 1, {'loss': 32.320308685302734, 'mae': 4.7102766036987305, 'val_loss': 33.98345184326172, 'val_mae': 5.211745262145996}\n",
            "Epoch: 2, {'loss': 32.37199020385742, 'mae': 4.7023396492004395, 'val_loss': 9.378778457641602, 'val_mae': 2.5070841312408447}\n"
          ]
        }
      ]
    },
    {
      "cell_type": "code",
      "source": [
        "class DetectiveOverfittingCallback(tf.keras.callbacks.Callback):\n",
        "  def __init__(self, threshold=0.7):\n",
        "    super(DetectiveOverfittingCallback)"
      ],
      "metadata": {
        "id": "x6fswSswJuPt"
      },
      "execution_count": null,
      "outputs": []
    }
  ],
  "metadata": {
    "colab": {
      "provenance": []
    },
    "kernelspec": {
      "display_name": "Python 3",
      "name": "python3"
    },
    "language_info": {
      "name": "python"
    }
  },
  "nbformat": 4,
  "nbformat_minor": 0
}