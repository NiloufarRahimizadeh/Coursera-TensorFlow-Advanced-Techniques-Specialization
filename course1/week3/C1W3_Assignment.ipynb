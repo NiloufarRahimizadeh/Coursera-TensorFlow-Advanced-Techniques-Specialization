{
  "cells": [
    {
      "cell_type": "code",
      "source": [
        "import tensorflow as tf\n",
        "from tensorflow.keras.layers import Layer\n"
      ],
      "metadata": {
        "id": "bsSiPqTAes75"
      },
      "execution_count": 1,
      "outputs": []
    },
    {
      "cell_type": "code",
      "source": [
        "class SimpleQuadratic(Layer):\n",
        "\n",
        "  def __init__(self, units=32, activation=None):\n",
        "    super(SimpleQuadratic, self).__init__()\n",
        "    self.units = units\n",
        "    self.activation = tf.keras.activations.get(activation)\n",
        "\n",
        "  def build(self, input_shape):\n",
        "    a_init = tf.random_normal_initializer()\n",
        "    b_init = tf.random_normal_initializer()\n",
        "    c_init = tf.zeros_initializer()\n",
        "\n",
        "    a_init_val = a_init(shape=(input_shape[-1], self.units), dtype='float32')\n",
        "    b_init_val = b_init(shape=(input_shape[-1], self.units), dtype='float32')\n",
        "    c_init_val = c_init(shape=(self.units), dtype='float32')\n",
        "\n",
        "    self.a = tf.Variable(initial_value=a_init_val, trainable=True)\n",
        "    self.b = tf.Variable(initial_value=b_init_val, trainable=True)\n",
        "    self.c = tf.Variable(initial_value=c_init_val, trainable=True)\n",
        "  def call(self, inputs):\n",
        "    x_squared = tf.math.square(inputs)\n",
        "    x_squared_times_a = tf.linalg.matmul(x_squared, self.a)\n",
        "    x_times_b = tf.linalg.matmul(inputs, self.b)\n",
        "    x2a_plus_xb_plus_c = x_squared_times_a + x_times_b + self.c\n",
        "    return self.activation(x2a_plus_xb_plus_c)\n"
      ],
      "metadata": {
        "id": "2MKU0Y2kjYdx"
      },
      "execution_count": 18,
      "outputs": []
    },
    {
      "cell_type": "code",
      "source": [
        "mnist = tf.keras.datasets.mnist\n",
        "(x_train, y_train), (x_test, y_test) = mnist.load_data()\n",
        "x_train, x_test = x_train / 255.0, x_test / 255.0\n",
        "y_train.shape"
      ],
      "metadata": {
        "id": "1TJ0n20-rolm",
        "colab": {
          "base_uri": "https://localhost:8080/"
        },
        "outputId": "c4013719-3817-46b5-cc9d-9da605ec6e3c"
      },
      "execution_count": 16,
      "outputs": [
        {
          "output_type": "execute_result",
          "data": {
            "text/plain": [
              "(60000,)"
            ]
          },
          "metadata": {},
          "execution_count": 16
        }
      ]
    },
    {
      "cell_type": "code",
      "source": [
        "model = tf.keras.models.Sequential([\n",
        "    tf.keras.layers.Flatten(input_shape=(28,28)),\n",
        "    SimpleQuadratic(128, activation='relu'),\n",
        "    tf.keras.layers.Dropout(0.2),\n",
        "    tf.keras.layers.Dense(10, activation='softmax')\n",
        "])\n",
        "\n",
        "model.compile(optimizer='adam',\n",
        "              loss='sparse_categorical_crossentropy',\n",
        "              metrics=['accuracy'])\n",
        "model.fit(x_train, y_train, epochs=5)\n",
        "model.evaluate(x_test, y_test)"
      ],
      "metadata": {
        "colab": {
          "base_uri": "https://localhost:8080/"
        },
        "id": "PLCb5bBDpEHu",
        "outputId": "631f61ec-c87f-4a55-f132-255fe2c3037a"
      },
      "execution_count": 19,
      "outputs": [
        {
          "output_type": "stream",
          "name": "stdout",
          "text": [
            "Epoch 1/5\n",
            "1875/1875 [==============================] - 10s 5ms/step - loss: 0.2713 - accuracy: 0.9193\n",
            "Epoch 2/5\n",
            "1875/1875 [==============================] - 10s 5ms/step - loss: 0.1310 - accuracy: 0.9610\n",
            "Epoch 3/5\n",
            "1875/1875 [==============================] - 9s 5ms/step - loss: 0.0993 - accuracy: 0.9696\n",
            "Epoch 4/5\n",
            "1875/1875 [==============================] - 8s 4ms/step - loss: 0.0816 - accuracy: 0.9746\n",
            "Epoch 5/5\n",
            "1875/1875 [==============================] - 9s 5ms/step - loss: 0.0708 - accuracy: 0.9774\n",
            "313/313 [==============================] - 1s 2ms/step - loss: 0.0793 - accuracy: 0.9752\n"
          ]
        },
        {
          "output_type": "execute_result",
          "data": {
            "text/plain": [
              "[0.0793345496058464, 0.9751999974250793]"
            ]
          },
          "metadata": {},
          "execution_count": 19
        }
      ]
    },
    {
      "cell_type": "code",
      "source": [],
      "metadata": {
        "id": "BNP4eYm0s4u9"
      },
      "execution_count": null,
      "outputs": []
    }
  ],
  "metadata": {
    "colab": {
      "provenance": []
    },
    "kernelspec": {
      "display_name": "Python 3",
      "name": "python3"
    },
    "language_info": {
      "name": "python"
    }
  },
  "nbformat": 4,
  "nbformat_minor": 0
}