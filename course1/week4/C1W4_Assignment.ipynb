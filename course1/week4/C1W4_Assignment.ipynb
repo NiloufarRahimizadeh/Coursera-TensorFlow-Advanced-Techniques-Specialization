{
  "cells": [
    {
      "cell_type": "code",
      "source": [
        "import tensorflow as tf\n",
        "import tensorflow_datasets as tfds"
      ],
      "metadata": {
        "id": "SKh7k2tRAN35"
      },
      "execution_count": 1,
      "outputs": []
    },
    {
      "cell_type": "code",
      "source": [
        "class MyClass():\n",
        "  def __init__(self):\n",
        "    self.var1 = 1\n",
        "\n",
        "my_obj = MyClass()"
      ],
      "metadata": {
        "id": "pJIWL90fWRWH"
      },
      "execution_count": 2,
      "outputs": []
    },
    {
      "cell_type": "code",
      "source": [
        "my_obj.__dict__"
      ],
      "metadata": {
        "colab": {
          "base_uri": "https://localhost:8080/"
        },
        "id": "RICN37EScR86",
        "outputId": "6098f2b8-5770-4648-c5a1-c7526acf9cd4"
      },
      "execution_count": 3,
      "outputs": [
        {
          "output_type": "execute_result",
          "data": {
            "text/plain": [
              "{'var1': 1}"
            ]
          },
          "metadata": {},
          "execution_count": 3
        }
      ]
    },
    {
      "cell_type": "code",
      "source": [
        "my_obj.var2 = 2\n",
        "vars(my_obj)"
      ],
      "metadata": {
        "colab": {
          "base_uri": "https://localhost:8080/"
        },
        "id": "l_JqmAtMcYyK",
        "outputId": "952bbb43-12bf-4959-adb8-7edac6c1fef2"
      },
      "execution_count": 4,
      "outputs": [
        {
          "output_type": "execute_result",
          "data": {
            "text/plain": [
              "{'var1': 1, 'var2': 2}"
            ]
          },
          "metadata": {},
          "execution_count": 4
        }
      ]
    },
    {
      "cell_type": "code",
      "source": [
        "vars(my_obj)['var3'] = 3\n",
        "vars(my_obj)"
      ],
      "metadata": {
        "colab": {
          "base_uri": "https://localhost:8080/"
        },
        "id": "xRXkfriUj9RK",
        "outputId": "4e4f7142-2d20-47b3-b65d-d884cd07b2cd"
      },
      "execution_count": 5,
      "outputs": [
        {
          "output_type": "execute_result",
          "data": {
            "text/plain": [
              "{'var1': 1, 'var2': 2, 'var3': 3}"
            ]
          },
          "metadata": {},
          "execution_count": 5
        }
      ]
    },
    {
      "cell_type": "code",
      "source": [
        "for i in range(4,10):\n",
        "  vars(my_obj)[f'var{i}'] = 0\n",
        "\n",
        "vars(my_obj)"
      ],
      "metadata": {
        "colab": {
          "base_uri": "https://localhost:8080/"
        },
        "id": "vcNIiZ5VkrhP",
        "outputId": "20cfb5b1-66ee-46ce-fcf1-5e5273fa0cf0"
      },
      "execution_count": 6,
      "outputs": [
        {
          "output_type": "execute_result",
          "data": {
            "text/plain": [
              "{'var1': 1,\n",
              " 'var2': 2,\n",
              " 'var3': 3,\n",
              " 'var4': 0,\n",
              " 'var5': 0,\n",
              " 'var6': 0,\n",
              " 'var7': 0,\n",
              " 'var8': 0,\n",
              " 'var9': 0}"
            ]
          },
          "metadata": {},
          "execution_count": 6
        }
      ]
    },
    {
      "cell_type": "markdown",
      "source": [
        "### Create a generic VGG block (TODO)"
      ],
      "metadata": {
        "id": "6Lw1TRTclPc4"
      }
    },
    {
      "cell_type": "code",
      "source": [
        "class Block(tf.keras.Model):\n",
        "  def __init__(self, filters, kernel_size, repetitions, pool_size=2, strides=2):\n",
        "    super(Block, self).__init__()\n",
        "    self.filters = filters\n",
        "    self.kernel_size = kernel_size\n",
        "    self.repetitions = repetitions\n",
        "\n",
        "    for i in range(self.repetitions):\n",
        "      vars(self)[f'conv2D_{i}'] = tf.keras.layers.Conv2D(filters=self.filters,\n",
        "                                                         kernel_size=self.kernel_size,\n",
        "                                                         activation='relu',\n",
        "                                                         padding='same')\n",
        "\n",
        "    self.max_pool = tf.keras.layers.MaxPool2D(pool_size=pool_size, strides=strides)\n",
        "\n",
        "  def call(self, inputs):\n",
        "    conv2D_0 = self.conv2D_0\n",
        "    x = conv2D_0(inputs)\n",
        "\n",
        "    for i in range(1, self.repetitions):\n",
        "      conv2D_i = vars(self)[f'conv2D_{i}']\n",
        "      x = conv2D_i(x)\n",
        "\n",
        "    max_pool = self.max_pool(x)\n",
        "\n",
        "    return max_pool"
      ],
      "metadata": {
        "id": "hAHrbZC0k8Yf"
      },
      "execution_count": 7,
      "outputs": []
    },
    {
      "cell_type": "markdown",
      "source": [
        "### Create the Custom VGG network (TODO)"
      ],
      "metadata": {
        "id": "9n5hB3pWe3tD"
      }
    },
    {
      "cell_type": "code",
      "source": [
        "class MyVGG(tf.keras.Model):\n",
        "\n",
        "  def __init__(self, num_classes):\n",
        "    super(MyVGG, self).__init__()\n",
        "\n",
        "    self.block_a = Block(filters=64, kernel_size=3, repetitions=2)\n",
        "    self.block_b = Block(filters=128, kernel_size=3, repetitions=2)\n",
        "    self.block_c = Block(filters=256, kernel_size=3, repetitions=3)\n",
        "    self.block_d = Block(filters=512, kernel_size=3, repetitions=3)\n",
        "    self.block_e = Block(filters=512, kernel_size=3, repetitions=3)\n",
        "\n",
        "    self.flatten = tf.keras.layers.Flatten()\n",
        "    self.fc = tf.keras.layers.Dense(256, activation='relu')\n",
        "    self.classifier = tf.keras.layers.Dense(num_classes, activation='softmax')\n",
        "\n",
        "  def call(self, )"
      ],
      "metadata": {
        "id": "3IFQ4xole1EF"
      },
      "execution_count": null,
      "outputs": []
    }
  ],
  "metadata": {
    "colab": {
      "provenance": []
    },
    "kernelspec": {
      "display_name": "Python 3",
      "name": "python3"
    },
    "language_info": {
      "name": "python"
    }
  },
  "nbformat": 4,
  "nbformat_minor": 0
}