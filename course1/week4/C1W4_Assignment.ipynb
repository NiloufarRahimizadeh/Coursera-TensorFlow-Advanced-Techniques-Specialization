{
  "cells": [
    {
      "cell_type": "code",
      "source": [
        "import tensorflow as tf\n",
        "import tensorflow_datasets as tfds"
      ],
      "metadata": {
        "id": "SKh7k2tRAN35"
      },
      "execution_count": null,
      "outputs": []
    },
    {
      "cell_type": "code",
      "source": [
        "class MyClass():\n",
        "  def __init__(self):\n",
        "    self.var1 = 1\n",
        "\n",
        "my_obj = MyClass()"
      ],
      "metadata": {
        "id": "pJIWL90fWRWH"
      },
      "execution_count": null,
      "outputs": []
    },
    {
      "cell_type": "code",
      "source": [
        "my_obj.__dict__"
      ],
      "metadata": {
        "colab": {
          "base_uri": "https://localhost:8080/"
        },
        "id": "RICN37EScR86",
        "outputId": "3a25878a-fa5e-4bdc-b7fc-656d7723474d"
      },
      "execution_count": null,
      "outputs": [
        {
          "output_type": "execute_result",
          "data": {
            "text/plain": [
              "{'var1': 1}"
            ]
          },
          "metadata": {},
          "execution_count": 4
        }
      ]
    },
    {
      "cell_type": "code",
      "source": [
        "my_obj.var2 = 2\n",
        "vars(my_obj)"
      ],
      "metadata": {
        "colab": {
          "base_uri": "https://localhost:8080/"
        },
        "id": "l_JqmAtMcYyK",
        "outputId": "6a7f281b-f980-4082-eef0-67e85795297c"
      },
      "execution_count": null,
      "outputs": [
        {
          "output_type": "execute_result",
          "data": {
            "text/plain": [
              "{'var1': 1, 'var2': 2}"
            ]
          },
          "metadata": {},
          "execution_count": 6
        }
      ]
    },
    {
      "cell_type": "code",
      "source": [
        "vars(my_obj)['var3'] = 3\n",
        "vars(my_obj)"
      ],
      "metadata": {
        "colab": {
          "base_uri": "https://localhost:8080/"
        },
        "id": "xRXkfriUj9RK",
        "outputId": "9e2f51ef-0fb2-4ab7-ef3c-ebbe70e2c8bb"
      },
      "execution_count": null,
      "outputs": [
        {
          "output_type": "execute_result",
          "data": {
            "text/plain": [
              "{'var1': 1, 'var2': 2, 'var3': 3}"
            ]
          },
          "metadata": {},
          "execution_count": 7
        }
      ]
    },
    {
      "cell_type": "code",
      "source": [
        "for i in range(4,10):\n",
        "  vars(my_obj)[f'var{i}'] = 0\n",
        "\n",
        "vars(my_obj)"
      ],
      "metadata": {
        "colab": {
          "base_uri": "https://localhost:8080/"
        },
        "id": "vcNIiZ5VkrhP",
        "outputId": "b7bc6d9e-849b-4422-f89d-a1cc6c91ff11"
      },
      "execution_count": null,
      "outputs": [
        {
          "output_type": "execute_result",
          "data": {
            "text/plain": [
              "{'var1': 1,\n",
              " 'var2': 2,\n",
              " 'var3': 3,\n",
              " 'var4': 0,\n",
              " 'var5': 0,\n",
              " 'var6': 0,\n",
              " 'var7': 0,\n",
              " 'var8': 0,\n",
              " 'var9': 0}"
            ]
          },
          "metadata": {},
          "execution_count": 8
        }
      ]
    },
    {
      "cell_type": "markdown",
      "source": [
        "### Create a generic VGG block (TODO)"
      ],
      "metadata": {
        "id": "6Lw1TRTclPc4"
      }
    },
    {
      "cell_type": "code",
      "source": [
        "class Block(tf.keras.Model):\n",
        "  def __init__(self, filters, kernel_size, repetitions, pool_size=2, strides=2):\n",
        "    super(Block, self).__init__()\n",
        "    self.filters = filters\n",
        "    self.kernel_size = kernel_size\n",
        "    self.repetitions = repetitions\n",
        "\n",
        "    for i in range(self.repetitions):\n",
        "      vars(self)[f'conv2D_{i}'] = tf.keras.layers.Conv2D(filters=self.filters,\n",
        "                                                         kernel_size=self.kernel_size,\n",
        "                                                         activation='relu',\n",
        "                                                         padding='same')\n",
        "\n",
        "    self.max_pool = tf.keras.layers.MaxPool2D(pool_size=pool_size, strides=strides)"
      ],
      "metadata": {
        "id": "hAHrbZC0k8Yf"
      },
      "execution_count": null,
      "outputs": []
    }
  ],
  "metadata": {
    "colab": {
      "provenance": []
    },
    "kernelspec": {
      "display_name": "Python 3",
      "name": "python3"
    },
    "language_info": {
      "name": "python"
    }
  },
  "nbformat": 4,
  "nbformat_minor": 0
}