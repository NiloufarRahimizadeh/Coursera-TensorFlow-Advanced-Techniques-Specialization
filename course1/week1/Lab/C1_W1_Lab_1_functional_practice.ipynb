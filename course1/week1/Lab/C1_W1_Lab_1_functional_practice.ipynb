{
  "nbformat": 4,
  "nbformat_minor": 0,
  "metadata": {
    "colab": {
      "provenance": []
    },
    "kernelspec": {
      "name": "python3",
      "display_name": "Python 3"
    },
    "language_info": {
      "name": "python"
    }
  },
  "cells": [
    {
      "cell_type": "code",
      "execution_count": 2,
      "metadata": {
        "id": "AyMLlPZnWQkg"
      },
      "outputs": [],
      "source": [
        "import tensorflow as tf\n",
        "import pydot\n",
        "from tensorflow.keras.models import Model\n",
        "from tensorflow.python.keras.utils.vis_utils import plot_model"
      ]
    },
    {
      "cell_type": "markdown",
      "source": [
        "### Sequential API"
      ],
      "metadata": {
        "id": "gvzPKvKmXmDh"
      }
    },
    {
      "cell_type": "code",
      "source": [
        "def built_model_with_sequential():\n",
        "  seq_model = tf.keras.models.Sequential([tf.keras.layers.Flatten(input_shape=(28, 28)),\n",
        "                                          tf.keras.layers.Dense(128, activation=tf.nn.relu),\n",
        "                                          tf.keras.layers.Dense(10, activation=tf.nn.softmax)])\n",
        "  return seq_model"
      ],
      "metadata": {
        "id": "2Ae6D0fAWerV"
      },
      "execution_count": 4,
      "outputs": []
    },
    {
      "cell_type": "markdown",
      "source": [
        "### Functional API"
      ],
      "metadata": {
        "id": "bNFqcIH8akLu"
      }
    },
    {
      "cell_type": "code",
      "source": [
        "def build_model_with_functional():\n",
        "\n",
        "  input_layer = tf.keras.Input(shape=(28, 28))\n",
        "  flatten_layer = tf.keras.layers.Flatten()(input_layer)\n",
        "  first_dense = tf.keras.layers.Dense(128, activation=tf.nn.relu)(flatten_layer)\n",
        "  output_layer = tf.keras.layers.Dense(10, activation=tf.nn.softmax)(first_dense)\n",
        "\n",
        "  func_model = Model(inputs=input_layer, outputs=output_layer)\n",
        "  return func_model"
      ],
      "metadata": {
        "id": "-1ihyFNdaPDe"
      },
      "execution_count": 10,
      "outputs": []
    },
    {
      "cell_type": "markdown",
      "source": [
        "### Build the model and visualize the model graph"
      ],
      "metadata": {
        "id": "E2uHpgibgbNm"
      }
    },
    {
      "cell_type": "code",
      "source": [
        "model = build_model_with_functional()\n",
        "\n",
        "# plot_model(model, show_shapes=True, show_layer_names=True, to_file='model.png')"
      ],
      "metadata": {
        "id": "BuHnjZaEgQY5"
      },
      "execution_count": 12,
      "outputs": []
    },
    {
      "cell_type": "markdown",
      "source": [
        "### Training the model"
      ],
      "metadata": {
        "id": "ccjFL09IhPDu"
      }
    },
    {
      "cell_type": "code",
      "source": [
        "mnist = tf.keras.datasets.fashion_mnist\n",
        "(training_images, training_labels), (test_images, test_labels) = mnist.load_data()\n",
        "training_images = training_images / 255.0\n",
        "test_images = test_images / 255.0\n",
        "\n",
        "model.compile(optimizer=tf.optimizers.Adam(),\n",
        "              loss='sparse_categorical_crossentropy',\n",
        "              metrics=['accuracy'])\n",
        "\n",
        "model.fit(training_images, training_labels, validation_data=(test_images, test_labels), epochs=5)\n",
        "model.evaluate(test_images, test_labels)\n"
      ],
      "metadata": {
        "colab": {
          "base_uri": "https://localhost:8080/"
        },
        "id": "o9kRORv-giwv",
        "outputId": "b921e29c-c627-47ea-8f03-9207a63ea894"
      },
      "execution_count": 14,
      "outputs": [
        {
          "output_type": "stream",
          "name": "stdout",
          "text": [
            "Epoch 1/5\n",
            "1875/1875 [==============================] - 9s 5ms/step - loss: 0.2820 - accuracy: 0.8949 - val_loss: 0.3478 - val_accuracy: 0.8749\n",
            "Epoch 2/5\n",
            "1875/1875 [==============================] - 7s 4ms/step - loss: 0.2700 - accuracy: 0.8993 - val_loss: 0.3426 - val_accuracy: 0.8787\n",
            "Epoch 3/5\n",
            "1875/1875 [==============================] - 9s 5ms/step - loss: 0.2591 - accuracy: 0.9028 - val_loss: 0.3382 - val_accuracy: 0.8805\n",
            "Epoch 4/5\n",
            "1875/1875 [==============================] - 7s 4ms/step - loss: 0.2487 - accuracy: 0.9072 - val_loss: 0.3797 - val_accuracy: 0.8648\n",
            "Epoch 5/5\n",
            "1875/1875 [==============================] - 8s 5ms/step - loss: 0.2416 - accuracy: 0.9096 - val_loss: 0.3531 - val_accuracy: 0.8778\n",
            "313/313 [==============================] - 1s 2ms/step - loss: 0.3531 - accuracy: 0.8778\n"
          ]
        },
        {
          "output_type": "execute_result",
          "data": {
            "text/plain": [
              "[0.35305115580558777, 0.8777999877929688]"
            ]
          },
          "metadata": {},
          "execution_count": 14
        }
      ]
    },
    {
      "cell_type": "code",
      "source": [],
      "metadata": {
        "id": "sxK74LsWkBVi"
      },
      "execution_count": null,
      "outputs": []
    }
  ]
}