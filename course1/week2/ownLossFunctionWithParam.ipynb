{
  "nbformat": 4,
  "nbformat_minor": 0,
  "metadata": {
    "colab": {
      "provenance": []
    },
    "kernelspec": {
      "name": "python3",
      "display_name": "Python 3"
    },
    "language_info": {
      "name": "python"
    }
  },
  "cells": [
    {
      "cell_type": "code",
      "execution_count": 1,
      "metadata": {
        "id": "HP754AdzS0dq"
      },
      "outputs": [],
      "source": [
        "import tensorflow as tf\n",
        "from tensorflow.keras.layers import Dense, Input\n",
        "from tensorflow.keras.losses import Loss\n",
        "import numpy as np"
      ]
    },
    {
      "cell_type": "code",
      "source": [
        "xs = np.arange(-5,5,1).astype('float32')\n",
        "ys = xs * 2 - 1"
      ],
      "metadata": {
        "id": "a6YIaKO0TW1-"
      },
      "execution_count": 2,
      "outputs": []
    },
    {
      "cell_type": "code",
      "source": [
        "class Huber(Loss):\n",
        "  threshold = 1\n",
        "  def __init__(self, threshold):\n",
        "    super().__init__()\n",
        "    self.threshold = threshold\n",
        "  def call(self, y_true, y_pred):\n",
        "    error = y_true - y_pred\n",
        "    return_type = tf.abs(error) <= self.threshold\n",
        "    r1 = 0.5 * tf.square(error)\n",
        "    r2 = self.threshold * (tf.abs(error) - (0.5*self.threshold))\n",
        "    return tf.where(return_type , r1 , r2)"
      ],
      "metadata": {
        "id": "ipU7tGJFWebH"
      },
      "execution_count": 7,
      "outputs": []
    },
    {
      "cell_type": "code",
      "source": [
        "input = Input(shape=(1,), name='input_layer')\n",
        "output_layer = Dense(1, name='output_layer')(input)\n",
        "model_huber_loss_class = tf.keras.models.Model(inputs=input , outputs=output_layer)\n",
        "model_huber_loss_class.compile(optimizer=\"sgd\" , loss=Huber(threshold=1))\n",
        "model_huber_loss_class.fit(xs,ys,epochs=500,verbose=0)\n",
        "model_huber_loss_class.predict([[10.0]])"
      ],
      "metadata": {
        "colab": {
          "base_uri": "https://localhost:8080/"
        },
        "id": "jIzvFJkJZb2R",
        "outputId": "28c719cd-2f0b-470d-e8e1-5ed0a37d8730"
      },
      "execution_count": 8,
      "outputs": [
        {
          "output_type": "stream",
          "name": "stdout",
          "text": [
            "1/1 [==============================] - 0s 99ms/step\n"
          ]
        },
        {
          "output_type": "execute_result",
          "data": {
            "text/plain": [
              "array([[19.030067]], dtype=float32)"
            ]
          },
          "metadata": {},
          "execution_count": 8
        }
      ]
    },
    {
      "cell_type": "code",
      "source": [],
      "metadata": {
        "id": "5w55C2Udc-55"
      },
      "execution_count": null,
      "outputs": []
    }
  ]
}